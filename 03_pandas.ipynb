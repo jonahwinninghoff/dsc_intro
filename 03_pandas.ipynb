{
    "cells": [
        {
            "cell_type": "markdown",
            "metadata": {},
            "source": "# pandas\nHere we will have a quick play with a pandas DataFrame and use what we've learned about accessing them to answer some questions.\n\nWe stopped ten people in the street and asked them what pets they have. We also recorded the person's sex and age."
        },
        {
            "cell_type": "code",
            "execution_count": 1,
            "metadata": {},
            "outputs": [],
            "source": "import numpy as np\nimport pandas as pd"
        },
        {
            "cell_type": "code",
            "execution_count": 2,
            "metadata": {},
            "outputs": [],
            "source": "pets = pd.DataFrame({'sex': np.array(['M', 'M', 'F', 'M', 'F', 'F', 'F', 'M', 'F', 'M']),\n                   'age': np.array([21, 45, 23, 56, 47, 70, 34, 30, 19, 62]),\n                   'pets': np.array([['cat', 'dog'],\n                                    ['hamster'],\n                                    ['cat', 'gerbil'],\n                                    ['fish', 'hamster', 'gerbil'],\n                                    ['cat'],\n                                    ['dog'],\n                                    ['dog'],\n                                    ['cat'],\n                                    ['rabbit', 'cat'],\n                                    ['dog']])})"
        },
        {
            "cell_type": "markdown",
            "metadata": {},
            "source": "We have been asked to analyse the survey responses. In particular, we have been given the questions\n\n* What sex was the youngest respondent?\n* What age was the person with the most pets?\n* What was the most popular pet?\n* What was the average age of dog owners?\n"
        },
        {
            "cell_type": "markdown",
            "metadata": {},
            "source": "Firstly, let's just look at the data. It's not very big so we don't actually even need to use head()."
        },
        {
            "cell_type": "code",
            "execution_count": 3,
            "metadata": {},
            "outputs": [
                {
                    "data": {
                        "text/html": "<div>\n<style scoped>\n    .dataframe tbody tr th:only-of-type {\n        vertical-align: middle;\n    }\n\n    .dataframe tbody tr th {\n        vertical-align: top;\n    }\n\n    .dataframe thead th {\n        text-align: right;\n    }\n</style>\n<table border=\"1\" class=\"dataframe\">\n  <thead>\n    <tr style=\"text-align: right;\">\n      <th></th>\n      <th>sex</th>\n      <th>age</th>\n      <th>pets</th>\n    </tr>\n  </thead>\n  <tbody>\n    <tr>\n      <th>0</th>\n      <td>M</td>\n      <td>21</td>\n      <td>[cat, dog]</td>\n    </tr>\n    <tr>\n      <th>1</th>\n      <td>M</td>\n      <td>45</td>\n      <td>[hamster]</td>\n    </tr>\n    <tr>\n      <th>2</th>\n      <td>F</td>\n      <td>23</td>\n      <td>[cat, gerbil]</td>\n    </tr>\n    <tr>\n      <th>3</th>\n      <td>M</td>\n      <td>56</td>\n      <td>[fish, hamster, gerbil]</td>\n    </tr>\n    <tr>\n      <th>4</th>\n      <td>F</td>\n      <td>47</td>\n      <td>[cat]</td>\n    </tr>\n    <tr>\n      <th>5</th>\n      <td>F</td>\n      <td>70</td>\n      <td>[dog]</td>\n    </tr>\n    <tr>\n      <th>6</th>\n      <td>F</td>\n      <td>34</td>\n      <td>[dog]</td>\n    </tr>\n    <tr>\n      <th>7</th>\n      <td>M</td>\n      <td>30</td>\n      <td>[cat]</td>\n    </tr>\n    <tr>\n      <th>8</th>\n      <td>F</td>\n      <td>19</td>\n      <td>[rabbit, cat]</td>\n    </tr>\n    <tr>\n      <th>9</th>\n      <td>M</td>\n      <td>62</td>\n      <td>[dog]</td>\n    </tr>\n  </tbody>\n</table>\n</div>",
                        "text/plain": "  sex  age                     pets\n0   M   21               [cat, dog]\n1   M   45                [hamster]\n2   F   23            [cat, gerbil]\n3   M   56  [fish, hamster, gerbil]\n4   F   47                    [cat]\n5   F   70                    [dog]\n6   F   34                    [dog]\n7   M   30                    [cat]\n8   F   19            [rabbit, cat]\n9   M   62                    [dog]"
                    },
                    "execution_count": 3,
                    "metadata": {},
                    "output_type": "execute_result"
                }
            ],
            "source": "pets"
        },
        {
            "cell_type": "markdown",
            "metadata": {},
            "source": "Notice here, as well, how the notebook has a nice default presentation for DataFrames. And, yes, you can customize this! We won't be going into that here."
        },
        {
            "cell_type": "markdown",
            "metadata": {},
            "source": "## What sex was the youngest respondent?\nHint, you might find the .loc accessor useful here. Think about breaking this task down into creating a boolean index that is True where the value in the age column is equal to the minimum of the age column. Then select the sex column."
        },
        {
            "cell_type": "code",
            "execution_count": 30,
            "metadata": {},
            "outputs": [
                {
                    "data": {
                        "text/plain": "8    F\nName: sex, dtype: object"
                    },
                    "execution_count": 30,
                    "metadata": {},
                    "output_type": "execute_result"
                }
            ],
            "source": "# one line of code\npets[pets['age'].isin([np.min(pets['age'])])].loc[:,'sex']"
        },
        {
            "cell_type": "markdown",
            "metadata": {},
            "source": "We see that the youngest respondent was female (F)"
        },
        {
            "cell_type": "markdown",
            "metadata": {},
            "source": "## What age was the person with the most pets?\nHint, you may find _apply_ ing len as a lambda function to the pets column useful here. Remember that calling len on the pets column will just return the length of the series, which is the number of rows in the DataFrame. In fact, adding useful features to your data is a very common thing in data science, so go ahead and create a new column in our pets DataFrame and call it 'num_pets'."
        },
        {
            "cell_type": "code",
            "execution_count": 59,
            "metadata": {},
            "outputs": [],
            "source": "# task: create new column 'num_pets' which contains the number of pets\n# each person had (hint: this is the length of each list in the pets column)\n# one line of code here:\npets['num_pets'] = pets['pets'].str.len()"
        },
        {
            "cell_type": "code",
            "execution_count": 60,
            "metadata": {},
            "outputs": [
                {
                    "data": {
                        "text/html": "<div>\n<style scoped>\n    .dataframe tbody tr th:only-of-type {\n        vertical-align: middle;\n    }\n\n    .dataframe tbody tr th {\n        vertical-align: top;\n    }\n\n    .dataframe thead th {\n        text-align: right;\n    }\n</style>\n<table border=\"1\" class=\"dataframe\">\n  <thead>\n    <tr style=\"text-align: right;\">\n      <th></th>\n      <th>sex</th>\n      <th>age</th>\n      <th>pets</th>\n      <th>num_pets</th>\n    </tr>\n  </thead>\n  <tbody>\n    <tr>\n      <th>0</th>\n      <td>M</td>\n      <td>21</td>\n      <td>[cat, dog]</td>\n      <td>2</td>\n    </tr>\n    <tr>\n      <th>1</th>\n      <td>M</td>\n      <td>45</td>\n      <td>[hamster]</td>\n      <td>1</td>\n    </tr>\n    <tr>\n      <th>2</th>\n      <td>F</td>\n      <td>23</td>\n      <td>[cat, gerbil]</td>\n      <td>2</td>\n    </tr>\n    <tr>\n      <th>3</th>\n      <td>M</td>\n      <td>56</td>\n      <td>[fish, hamster, gerbil]</td>\n      <td>3</td>\n    </tr>\n    <tr>\n      <th>4</th>\n      <td>F</td>\n      <td>47</td>\n      <td>[cat]</td>\n      <td>1</td>\n    </tr>\n    <tr>\n      <th>5</th>\n      <td>F</td>\n      <td>70</td>\n      <td>[dog]</td>\n      <td>1</td>\n    </tr>\n    <tr>\n      <th>6</th>\n      <td>F</td>\n      <td>34</td>\n      <td>[dog]</td>\n      <td>1</td>\n    </tr>\n    <tr>\n      <th>7</th>\n      <td>M</td>\n      <td>30</td>\n      <td>[cat]</td>\n      <td>1</td>\n    </tr>\n    <tr>\n      <th>8</th>\n      <td>F</td>\n      <td>19</td>\n      <td>[rabbit, cat]</td>\n      <td>2</td>\n    </tr>\n    <tr>\n      <th>9</th>\n      <td>M</td>\n      <td>62</td>\n      <td>[dog]</td>\n      <td>1</td>\n    </tr>\n  </tbody>\n</table>\n</div>",
                        "text/plain": "  sex  age                     pets  num_pets\n0   M   21               [cat, dog]         2\n1   M   45                [hamster]         1\n2   F   23            [cat, gerbil]         2\n3   M   56  [fish, hamster, gerbil]         3\n4   F   47                    [cat]         1\n5   F   70                    [dog]         1\n6   F   34                    [dog]         1\n7   M   30                    [cat]         1\n8   F   19            [rabbit, cat]         2\n9   M   62                    [dog]         1"
                    },
                    "execution_count": 60,
                    "metadata": {},
                    "output_type": "execute_result"
                }
            ],
            "source": "# view the DataFrame again to check our new column is there\npets"
        },
        {
            "cell_type": "code",
            "execution_count": 61,
            "metadata": {},
            "outputs": [
                {
                    "data": {
                        "text/plain": "3    56\nName: age, dtype: int64"
                    },
                    "execution_count": 61,
                    "metadata": {},
                    "output_type": "execute_result"
                }
            ],
            "source": "pets.loc[pets['num_pets'] == max(pets['num_pets']), 'age']"
        },
        {
            "cell_type": "markdown",
            "metadata": {},
            "source": "So we see the person with the most pets was 56 years old."
        },
        {
            "cell_type": "markdown",
            "metadata": {},
            "source": "## What was the most popular pet?\nThis is a very interesting question, given the data, because the data are arranged by respondent, not by pet. We need to _get into_ the pets column now in order to count each type of animal. To do this, we could perform a list comprehension and iterate over each list element for each Series element. But here we're going to give you a handy way to convert that Series of lists into a (longer) Series. The reason for this is to end up with another Series, which means we still have access to the powerful methods available from pandas."
        },
        {
            "cell_type": "code",
            "execution_count": 62,
            "metadata": {},
            "outputs": [
                {
                    "data": {
                        "text/plain": "0         cat\n1         dog\n2     hamster\n3         cat\n4      gerbil\n5        fish\n6     hamster\n7      gerbil\n8         cat\n9         dog\n10        dog\n11        cat\n12     rabbit\n13        cat\n14        dog\ndtype: object"
                    },
                    "execution_count": 62,
                    "metadata": {},
                    "output_type": "execute_result"
                }
            ],
            "source": "pet_series = pets['pets'].apply(pd.Series).stack().reset_index(drop=True)\npet_series"
        },
        {
            "cell_type": "code",
            "execution_count": 66,
            "metadata": {},
            "outputs": [
                {
                    "data": {
                        "text/plain": "cat        5\ndog        4\ngerbil     2\nhamster    2\nrabbit     1\nfish       1\ndtype: int64"
                    },
                    "execution_count": 66,
                    "metadata": {},
                    "output_type": "execute_result"
                }
            ],
            "source": "# task: produce an ordered count of each animal\n# one line of code here:\npet_series.value_counts()"
        },
        {
            "cell_type": "markdown",
            "metadata": {},
            "source": "Cat is the most popular pet."
        },
        {
            "cell_type": "markdown",
            "metadata": {},
            "source": "Note we could also have approached this task by iterating over the original pets column and collecting the animal as the key and the count as the value, but even this requires more explicit iterating and count incrementing, and we still need to iterate over the final result to find the maximum count. With our approach here, we can easily read the most popular pet animal from the top of the result."
        },
        {
            "cell_type": "markdown",
            "metadata": {},
            "source": "## What was the average age of dog owners?\nHint, again here you may find it useful to use a lambda function to create a boolean index which is True if a respondent said they had a dog and False otherwise."
        },
        {
            "cell_type": "code",
            "execution_count": null,
            "metadata": {},
            "outputs": [],
            "source": "# example\n('dog' in ['dog', 'cat'], 'dog' in ['rabbit'])"
        },
        {
            "cell_type": "code",
            "execution_count": 69,
            "metadata": {},
            "outputs": [
                {
                    "data": {
                        "text/plain": "46.75"
                    },
                    "execution_count": 69,
                    "metadata": {},
                    "output_type": "execute_result"
                }
            ],
            "source": "# task: use a lambda function to test whether 'dog' is contained in each list of animals,\n# extract the age column and then chain the mean method to calculate the average age.\n# one line of code here:\npets.loc[pets['pets'].apply(lambda x: 'dog' in x), 'age'].mean()"
        },
        {
            "cell_type": "markdown",
            "metadata": {},
            "source": "# Conclusion\nYou've now seen how pandas holds tabular data, where each column can be a different type (e.g. sex is character and age is a number). Furthermore, pandas provides incredibly powerful methods for slicing and dicing the data to answer some very interesting questions using relatively little code. You're well on your journey to becoming a data ninja!"
        }
    ],
    "metadata": {
        "kernelspec": {
            "display_name": "Python 3.7",
            "language": "python",
            "name": "python3"
        },
        "language_info": {
            "codemirror_mode": {
                "name": "ipython",
                "version": 3
            },
            "file_extension": ".py",
            "mimetype": "text/x-python",
            "name": "python",
            "nbconvert_exporter": "python",
            "pygments_lexer": "ipython3",
            "version": "3.7.10"
        }
    },
    "nbformat": 4,
    "nbformat_minor": 2
}